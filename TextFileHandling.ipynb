{
 "cells": [
  {
   "cell_type": "markdown",
   "id": "f2126cc1",
   "metadata": {},
   "source": [
    "Step 1: Importing the Library"
   ]
  },
  {
   "cell_type": "code",
   "execution_count": 1,
   "id": "e5719912",
   "metadata": {},
   "outputs": [],
   "source": [
    "import pandas as pd"
   ]
  },
  {
   "cell_type": "markdown",
   "id": "92e93fe7",
   "metadata": {},
   "source": [
    "Step 2: Finding the Unique Dialogue Speakers."
   ]
  },
  {
   "cell_type": "code",
   "execution_count": 2,
   "id": "2091913a",
   "metadata": {
    "scrolled": true
   },
   "outputs": [
    {
     "name": "stdout",
     "output_type": "stream",
     "text": [
      "['ARYA', 'BRAN', 'CASSEL', 'CATELYN', 'CERSEI', 'GARED', 'JAIME', 'JON', 'NED', 'ROBB', 'ROBERT', 'ROYCE', 'SANSA', 'SEPTA MORDANE', 'THEON', 'WAYMAR ROYCE', 'WILL']\n",
      "Total number of unique dialogue speakers are:  17\n"
     ]
    }
   ],
   "source": [
    "text_file=open(\"conv.txt\",\"r\")\n",
    "Character=[]\n",
    "\n",
    "for words in text_file:\n",
    "    y=words.rsplit(\":\")\n",
    "    Character.append(y[0])\n",
    "character_list=list(set(Character))\n",
    "character_list.remove(words)\n",
    "\n",
    "#sort\n",
    "character_list.sort()\n",
    "print(character_list)\n",
    "print(\"Total number of unique dialogue speakers are: \",len(character_list))\n",
    "text_file.close()"
   ]
  },
  {
   "cell_type": "markdown",
   "id": "1da82979",
   "metadata": {},
   "source": [
    "Step 3: Creation of files of Speakers name with there Dialogue."
   ]
  },
  {
   "cell_type": "code",
   "execution_count": 3,
   "id": "24b93325",
   "metadata": {},
   "outputs": [
    {
     "name": "stdout",
     "output_type": "stream",
     "text": [
      "The Files have been Created !!!\n"
     ]
    }
   ],
   "source": [
    "text_file=open('conv.txt', 'r')\n",
    "\n",
    "\n",
    "for x in text_file:\n",
    "    q=x.split(\":\")\n",
    "    for item in range(len(character_list)):\n",
    "        if q[0]==character_list[item]:\n",
    "            f=open(\"%s.txt\"%character_list[item],\"a\")\n",
    "            f.write(q[1])\n",
    "            f.close()\n",
    "text_file.close()\n",
    "print(\"The Files have been Created !!!\")"
   ]
  },
  {
   "cell_type": "markdown",
   "id": "93fd2e86",
   "metadata": {},
   "source": [
    "Step 4: Finding the unique word out of each Character dialogue and storing it in different line."
   ]
  },
  {
   "cell_type": "code",
   "execution_count": 4,
   "id": "ea133ddd",
   "metadata": {},
   "outputs": [
    {
     "name": "stdout",
     "output_type": "stream",
     "text": [
      "['arya', 'brother', 'imp', 'jaime', 'lannister', 'queenâ€™s', 'thatâ€™s', 'the', 'twin', 'whereâ€™s']\n"
     ]
    }
   ],
   "source": [
    "#ARYA\n",
    "text_file = open('ARYA.txt', 'r')\n",
    "text = text_file.read()\n",
    "\n",
    "text = text.lower()\n",
    "words = text.split()\n",
    "words = [word.strip('?.,!;()[]') for word in words]\n",
    "\n",
    "#finding unique\n",
    "arya = []\n",
    "for word in words:\n",
    "    if word not in arya:\n",
    "        arya.append(word)\n",
    " \n",
    "arya.sort()\n",
    "\n",
    "print(arya)\n",
    "\n",
    "with open('ARYA.txt', 'w+') as f:\n",
    "      \n",
    "    # write elements of list\n",
    "    for items in arya:\n",
    "        f.write('%s\\n' %items)\n",
    "  \n",
    "# close the file\n",
    "f.close()"
   ]
  },
  {
   "cell_type": "code",
   "execution_count": 5,
   "id": "dc2cbcc7",
   "metadata": {},
   "outputs": [
    {
     "name": "stdout",
     "output_type": "stream",
     "text": [
      "['a', 'about', 'but', 'coming', 'dead', 'deserter', 'down', 'father', 'go', 'got', 'he', 'heâ€™s', 'hundreds', 'i', 'is', 'it', 'jon', 'king', 'lying', 'motherâ€™s', 'no', 'now', 'of', 'old', 'our', 'people', 'please', 'right', 'road', 'said', 'saw', 'so', 'the', 'their', 'they', 'true', 'walkers', 'was', 'way', 'what', 'where', 'white', 'will', 'you']\n"
     ]
    }
   ],
   "source": [
    "#BRAN\n",
    "text_file = open('BRAN.txt', 'r')\n",
    "text = text_file.read()\n",
    "\n",
    "text = text.lower()\n",
    "words = text.split()\n",
    "words = [word.strip('?.,!;()[]') for word in words]\n",
    "\n",
    "#finding unique\n",
    "bran = []\n",
    "for word in words:\n",
    "    if word not in bran:\n",
    "        bran.append(word)\n",
    " \n",
    "bran.sort()\n",
    "\n",
    "print(bran)\n",
    "\n",
    "with open('BRAN.txt', 'w+') as f:\n",
    "      \n",
    "    # write elements of list\n",
    "    for items in bran:\n",
    "        f.write('%s\\n' %items)\n",
    "  \n",
    "# close the file\n",
    "f.close()"
   ]
  },
  {
   "cell_type": "code",
   "execution_count": 6,
   "id": "ca029d4b",
   "metadata": {},
   "outputs": [
    {
     "name": "stdout",
     "output_type": "stream",
     "text": [
      "['a', 'belong', 'captured', 'deserter', 'donâ€™t', 'down', 'from', 'guardsman', 'here', 'hills', 'in', 'is', 'just', 'lady', 'law', 'lord', 'my', 'nightâ€™s', 'rode', 'stark', 'the', 'they', 'theyâ€™ve', 'watch']\n"
     ]
    }
   ],
   "source": [
    "#CASSEL\n",
    "text_file = open('CASSEL.txt', 'r')\n",
    "text = text_file.read()\n",
    "\n",
    "text = text.lower()\n",
    "words = text.split()\n",
    "words = [word.strip('?.,!;()[]') for word in words]\n",
    "\n",
    "#finding unique\n",
    "cassel = []\n",
    "for word in words:\n",
    "    if word not in cassel:\n",
    "        cassel.append(word)\n",
    " \n",
    "cassel.sort()\n",
    "\n",
    "print(cassel)\n",
    "\n",
    "with open('CASSEL.txt', 'w+') as f:\n",
    "      \n",
    "    # write elements of list\n",
    "    for items in cassel:\n",
    "        f.write('%s\\n' %items)\n",
    "  \n",
    "# close the file\n",
    "f.close()"
   ]
  },
  {
   "cell_type": "code",
   "execution_count": 7,
   "id": "e968d955",
   "metadata": {},
   "outputs": [
    {
     "name": "stdout",
     "output_type": "stream",
     "text": [
      "['agree', 'all', 'am', 'an', 'and', 'but', 'climbing', 'come', 'do', 'fast', 'feel', 'gods', 'grace', 'grow', 'have', 'here', 'how', 'i', 'if', 'is', 'like', 'love', 'many', 'me', 'more', 'my', 'ned', 'no', 'old', 'outsider', 'promise', 'queen', 'see', 'so', 'sorry', 'still', 'such', 'ten', 'the', 'these', 'they', 'things', 'times', 'to', 'told', 'too', 'want', 'when', 'wonder', 'years', 'you', 'young', 'your']\n"
     ]
    }
   ],
   "source": [
    "#CATELYN\n",
    "text_file = open('CATELYN.txt', 'r')\n",
    "text = text_file.read()\n",
    "\n",
    "text = text.lower()\n",
    "words = text.split()\n",
    "words = [word.strip('?.,!;()[]') for word in words]\n",
    "\n",
    "#finding unique\n",
    "catelyn = []\n",
    "for word in words:\n",
    "    if word not in catelyn:\n",
    "        catelyn.append(word)\n",
    " \n",
    "catelyn.sort()\n",
    "\n",
    "print(catelyn)\n",
    "\n",
    "with open('ARYA.txt', 'w+') as f:\n",
    "      \n",
    "    # write elements of list\n",
    "    for items in arya:\n",
    "        f.write('%s\\n' %items)\n",
    "  \n",
    "# close the file\n",
    "f.close()"
   ]
  },
  {
   "cell_type": "code",
   "execution_count": 8,
   "id": "b3f2ee21",
   "metadata": {},
   "outputs": [
    {
     "name": "stdout",
     "output_type": "stream",
     "text": [
      "['a', 'arryn', 'be', 'beast', 'been', 'brother', 'can', 'dead', 'find', 'for', 'go', 'hand', 'husband', 'if', 'is', 'jon', 'king', 'little', 'love', 'month', 'my', 'of', 'our', 'riding', 'should', 'someone', 'surely', 'the', 'told', 'wait', 'weâ€™ve', 'what', 'where', 'you']\n"
     ]
    }
   ],
   "source": [
    "#CERSEI\n",
    "text_file = open('CERSEI.txt', 'r')\n",
    "text = text_file.read()\n",
    "\n",
    "text = text.lower()\n",
    "words = text.split()\n",
    "words = [word.strip('?.,!;()[]') for word in words]\n",
    "\n",
    "#finding unique\n",
    "cersei = []\n",
    "for word in words:\n",
    "    if word not in cersei:\n",
    "        cersei.append(word)\n",
    " \n",
    "cersei.sort()\n",
    "\n",
    "print(cersei)\n",
    "\n",
    "with open('CERSEI.txt', 'w+') as f:\n",
    "      \n",
    "    # write elements of list\n",
    "    for items in cersei:\n",
    "        f.write('%s\\n' %items)\n",
    "  \n",
    "# close the file\n",
    "f.close()"
   ]
  },
  {
   "cell_type": "code",
   "execution_count": 9,
   "id": "0a0fa3ac",
   "metadata": {},
   "outputs": [
    {
     "name": "stdout",
     "output_type": "stream",
     "text": [
      "['back', 'head', 'more', 'no', 'orders', 'our', 'see', 'should', 'the', 'them', 'they', 'to', 'track', 'tracked', 'trouble', 'us', 'wall', 'we', 'went', 'were', 'where', 'wildlings', 'wonâ€™t']\n"
     ]
    }
   ],
   "source": [
    "#GARED\n",
    "text_file = open('GARED.txt', 'r')\n",
    "text = text_file.read()\n",
    "\n",
    "text = text.lower()\n",
    "words = text.split()\n",
    "words = [word.strip('?.,!;()[]') for word in words]\n",
    "\n",
    "#finding unique\n",
    "gared = []\n",
    "for word in words:\n",
    "    if word not in gared:\n",
    "        gared.append(word)\n",
    " \n",
    "gared.sort()\n",
    "\n",
    "print(gared)\n",
    "\n",
    "with open('GARED.txt', 'w+') as f:\n",
    "      \n",
    "    # write elements of list\n",
    "    for items in gared:\n",
    "        f.write('%s\\n' %items)\n",
    "  \n",
    "# close the file\n",
    "f.close()"
   ]
  },
  {
   "cell_type": "code",
   "execution_count": 10,
   "id": "fb1e10c6",
   "metadata": {},
   "outputs": [
    {
     "name": "stdout",
     "output_type": "stream",
     "text": [
      "['a', 'an', 'and', 'are', 'around', 'arryn', 'be', 'boars', 'both', 'but', 'by', 'can', 'choose', 'city', 'days', 'didnâ€™t', 'died', 'do', 'fucking', 'gates', 'go', 'hand', 'he', 'heads', 'heâ€™s', 'him', 'his', 'honor', 'hunting', 'i', 'if', 'is', 'it', 'job', 'jon', 'king', 'knew', 'know', 'life', 'lives', 'long', 'new', 'now', 'of', 'off', 'on', 'or', 'other', 'our', 'robert', 'short', 'skewered', 'someone', 'tell', 'thatâ€™s', 'the', 'their', 'to', 'told', 'too', 'way', 'whatever', 'while', 'who', 'whores', 'will', 'with', 'without', 'would']\n"
     ]
    }
   ],
   "source": [
    "#JAIME\n",
    "text_file = open('JAIME.txt', 'r')\n",
    "text = text_file.read()\n",
    "\n",
    "text = text.lower()\n",
    "words = text.split()\n",
    "words = [word.strip('?.,!;()[]') for word in words]\n",
    "\n",
    "#finding unique\n",
    "jaime = []\n",
    "for word in words:\n",
    "    if word not in jaime:\n",
    "        jaime.append(word)\n",
    " \n",
    "jaime.sort()\n",
    "\n",
    "print(jaime)\n",
    "\n",
    "with open('JAIME.txt', 'w+') as f:\n",
    "      \n",
    "    # write elements of list\n",
    "    for items in jaime:\n",
    "        f.write('%s\\n' %items)\n",
    "  \n",
    "# close the file\n",
    "f.close()"
   ]
  },
  {
   "cell_type": "code",
   "execution_count": 11,
   "id": "768cb266",
   "metadata": {},
   "outputs": [
    {
     "name": "stdout",
     "output_type": "stream",
     "text": [
      "['a', 'and', 'are', 'bran', 'children', 'did', 'direwolf', 'do', 'donâ€™t', 'each', 'father', 'fatherâ€™s', 'five', 'for', 'get', 'go', 'have', 'hold', 'house', 'if', 'is', 'it', 'iâ€™m', 'know', 'lord', 'meant', 'mother', 'much', 'not', 'now', 'of', 'on', 'one', 'pups', 'sigil', 'stark', 'the', 'them', 'there', 'they', 'think', 'to', 'too', 'want', 'watching', 'well', 'were', 'what', 'will', 'you', 'your']\n"
     ]
    }
   ],
   "source": [
    "#JON\n",
    "text_file = open('JON.txt', 'r')\n",
    "text = text_file.read()\n",
    "\n",
    "text = text.lower()\n",
    "words = text.split()\n",
    "words = [word.strip('?.,!;()[]') for word in words]\n",
    "\n",
    "#finding unique\n",
    "jon = []\n",
    "for word in words:\n",
    "    if word not in jon:\n",
    "        jon.append(word)\n",
    " \n",
    "jon.sort()\n",
    "\n",
    "print(jon)\n",
    "\n",
    "with open('JON.txt', 'w+') as f:\n",
    "      \n",
    "    # write elements of list\n",
    "    for items in jon:\n",
    "        f.write('%s\\n' %items)\n",
    "  \n",
    "# close the file\n",
    "f.close()"
   ]
  },
  {
   "cell_type": "code",
   "execution_count": 12,
   "id": "2d508c6d",
   "metadata": {},
   "outputs": [
    {
     "name": "stdout",
     "output_type": "stream",
     "text": [
      "['a', 'about', 'all', 'an', 'and', 'andals', 'are', 'arryn', 'at', 'aye', 'be', 'beast', 'been', 'better', 'both', 'boy', 'bran', 'bury', 'but', 'cat', 'children', 'coming', 'death', 'did', 'die', 'direwolf', 'do', 'eddard', 'feed', 'first', 'five', 'for', 'forever', 'get', 'go', 'gods', 'gone', 'grace', 'guarding', 'had', 'have', 'he', 'heâ€™s', 'him', 'horses', 'house', 'i', 'if', 'in', 'is', 'it', 'itâ€™s', 'iâ€™m', 'jon', 'keep', 'kill', 'king', 'kingdoms', 'lads', 'last', 'lions', 'lord', 'madman', 'man', 'marksman', 'me', 'men', 'mother', 'mountain', 'my', 'no', 'north', 'northern', 'not', 'oath', 'of', 'old', 'on', 'one', 'outsider', 'passes', 'practicing', 'protector', 'queen', 'quick', 'realm', 'rules', 'saddle', 'sees', 'sentence', 'seven', 'should', 'sorry', 'stark', 'swing', 'sword', 'swore', 'tell', 'ten', 'the', 'their', 'them', 'there', 'these', 'they', 'thousands', 'to', 'too', 'tough', 'train', 'understand', 'walkers', 'warden', 'was', 'we', 'what', 'which', 'white', 'who', 'why', 'will', 'winter', 'winterfell', 'with', 'without', 'wonâ€™t', 'woods', 'years', 'you', 'your', 'yours', 'yourselves', 'youâ€™re', 'â€¦']\n"
     ]
    }
   ],
   "source": [
    "#NED\n",
    "text_file = open('NED.txt', 'r')\n",
    "text = text_file.read()\n",
    "\n",
    "text = text.lower()\n",
    "words = text.split()\n",
    "words = [word.strip('?.,!;()[]') for word in words]\n",
    "\n",
    "#finding unique\n",
    "ned = []\n",
    "for word in words:\n",
    "    if word not in ned:\n",
    "        ned.append(word)\n",
    " \n",
    "ned.sort()\n",
    "\n",
    "print(ned)\n",
    "\n",
    "with open('NED.txt', 'w+') as f:\n",
    "      \n",
    "    # write elements of list\n",
    "    for items in ned:\n",
    "        f.write('%s\\n' %items)\n",
    "  \n",
    "# close the file\n",
    "f.close()"
   ]
  },
  {
   "cell_type": "code",
   "execution_count": 13,
   "id": "e6e34b8c",
   "metadata": {},
   "outputs": [
    {
     "name": "stdout",
     "output_type": "stream",
     "text": [
      "['a', 'and', 'are', 'arm', 'away', 'back', 'better', 'blade', 'bow', 'direwolves', 'get', 'girl', 'go', 'good', 'hair', 'he', 'hear', 'heâ€™s', 'him', 'his', 'i', 'is', 'it', 'lad', 'likes', 'met', 'never', 'no', 'of', 'on', 'own', 'prick', 'prince', 'put', 'relax', 'rest', 'right', 'royal', 'run', 'shave', 'south', 'than', 'the', 'there', 'tommy', 'wall', 'what', 'your']\n"
     ]
    }
   ],
   "source": [
    "#ROBB\n",
    "text_file = open('ROBB.txt', 'r')\n",
    "text = text_file.read()\n",
    "\n",
    "text = text.lower()\n",
    "words = text.split()\n",
    "words = [word.strip('?.,!;()[]') for word in words]\n",
    "\n",
    "#finding unique\n",
    "robb = []\n",
    "for word in words:\n",
    "    if word not in robb:\n",
    "        robb.append(word)\n",
    " \n",
    "robb.sort()\n",
    "\n",
    "print(robb)\n",
    "\n",
    "with open('ROBB.txt', 'w+') as f:\n",
    "      \n",
    "    # write elements of list\n",
    "    for items in robb:\n",
    "        f.write('%s\\n' %items)\n",
    "  \n",
    "# close the file\n",
    "f.close()"
   ]
  },
  {
   "cell_type": "code",
   "execution_count": 14,
   "id": "9d4d0a72",
   "metadata": {},
   "outputs": [
    {
     "name": "stdout",
     "output_type": "stream",
     "text": [
      "['16', 'a', 'all', 'and', 'at', 'be', 'been', 'burned', 'but', 'cat', 'crack', 'crypt', 'do', 'fat', 'fine', 'fuck', 'girls', 'got', 'had', 'have', 'havenâ€™t', 'he', 'hell', 'here', 'him', 'i', 'it', 'loved', 'man', 'me', 'minute', 'much', 'muscles', 'must', 'my', 'ned', 'never', 'nine', 'one', 'ooh', 'pay', 'remember', 'respects', 'right', 'robb', 'seen', 'show', 'showed', 'skulls', 'soldier', 'take', 'teach', 'that', 'the', 'then', 'through', 'to', 'us', 'want', 'wanted', 'was', 'we', 'what', 'whatever', 'where', 'who', 'why', 'years', 'you', 'your', 'youâ€™ll', 'youâ€™ve', 'â€¦']\n"
     ]
    }
   ],
   "source": [
    "#ROBERT\n",
    "text_file = open('ROBERT.txt', 'r')\n",
    "text = text_file.read()\n",
    "\n",
    "text = text.lower()\n",
    "words = text.split()\n",
    "words = [word.strip('?.,!;()[]') for word in words]\n",
    "\n",
    "#finding unique\n",
    "robert = []\n",
    "for word in words:\n",
    "    if word not in robert:\n",
    "        robert.append(word)\n",
    " \n",
    "robert.sort()\n",
    "\n",
    "print(robert)\n",
    "\n",
    "with open('ROBERT.txt', 'w+') as f:\n",
    "      \n",
    "    # write elements of list\n",
    "    for items in robert:\n",
    "        f.write('%s\\n' %items)\n",
    "  \n",
    "# close the file\n",
    "f.close()"
   ]
  },
  {
   "cell_type": "code",
   "execution_count": 15,
   "id": "6c045bb8",
   "metadata": {},
   "outputs": [
    {
     "name": "stdout",
     "output_type": "stream",
     "text": [
      "['a', 'again', 'as', 'ask', 'away', 'back', 'behead', 'camp', 'catch', 'children', 'course', 'dead', 'deserter', 'died', 'do', 'donâ€™t', 'first', 'frighten', 'get', 'good', 'have', 'heâ€™ll', 'horse', 'how', 'i', 'if', 'is', 'it', 'itâ€™s', 'men', 'moved', 'not', 'of', 'on', 'run', 'say', 'seem', 'south', 'the', 'they', 'thing', 'think', 'to', 'us', 'want', 'weâ€™re', 'what', 'will', 'wonâ€™t', 'you', 'your', 'â€¦']\n"
     ]
    }
   ],
   "source": [
    "#ROYCE\n",
    "text_file = open('ROYCE.txt', 'r')\n",
    "text = text_file.read()\n",
    "\n",
    "text = text.lower()\n",
    "words = text.split()\n",
    "words = [word.strip('?.,!;()[]') for word in words]\n",
    "\n",
    "#finding unique\n",
    "royce = []\n",
    "for word in words:\n",
    "    if word not in royce:\n",
    "        royce.append(word)\n",
    " \n",
    "royce.sort()\n",
    "\n",
    "print(royce)\n",
    "\n",
    "with open('ROYCE.txt', 'w+') as f:\n",
    "      \n",
    "    # write elements of list\n",
    "    for items in royce:\n",
    "        f.write('%s\\n' %items)\n",
    "  \n",
    "# close the file\n",
    "f.close()"
   ]
  },
  {
   "cell_type": "code",
   "execution_count": 16,
   "id": "ac3f5da5",
   "metadata": {},
   "outputs": [
    {
     "name": "stdout",
     "output_type": "stream",
     "text": [
      "['please', 'shut', 'thank', 'up', 'will', 'would', 'you']\n"
     ]
    }
   ],
   "source": [
    "#SANSA\n",
    "text_file = open('SANSA.txt', 'r')\n",
    "text = text_file.read()\n",
    "\n",
    "text = text.lower()\n",
    "words = text.split()\n",
    "words = [word.strip('?.,!;()[]') for word in words]\n",
    "\n",
    "#finding unique\n",
    "sansa = []\n",
    "for word in words:\n",
    "    if word not in sansa:\n",
    "        sansa.append(word)\n",
    " \n",
    "sansa.sort()\n",
    "\n",
    "print(sansa)\n",
    "\n",
    "with open('SANSA.txt', 'w+') as f:\n",
    "      \n",
    "    # write elements of list\n",
    "    for items in sansa:\n",
    "        f.write('%s\\n' %items)\n",
    "  \n",
    "# close the file\n",
    "f.close()"
   ]
  },
  {
   "cell_type": "code",
   "execution_count": 17,
   "id": "13b1f79f",
   "metadata": {},
   "outputs": [
    {
     "name": "stdout",
     "output_type": "stream",
     "text": [
      "['always', 'as', 'corners', 'detail', 'done', 'fine', 'get', 'i', 'in', 'love', 'managed', 'that', 'the', 'this', 'to', 'well', 'work', 'youâ€™ve']\n"
     ]
    }
   ],
   "source": [
    "#SEPTA MORDANE\n",
    "text_file = open('SEPTA MORDANE.txt', 'r')\n",
    "text = text_file.read()\n",
    "\n",
    "text = text.lower()\n",
    "words = text.split()\n",
    "words = [word.strip('?.,!;()[]') for word in words]\n",
    "\n",
    "#finding unique\n",
    "septa = []\n",
    "for word in words:\n",
    "    if word not in septa:\n",
    "        septa.append(word)\n",
    " \n",
    "septa.sort()\n",
    "\n",
    "print(septa)\n",
    "\n",
    "with open('SEPTA MORDANE.txt', 'w+') as f:\n",
    "      \n",
    "    # write elements of list\n",
    "    for items in septa:\n",
    "        f.write('%s\\n' %items)\n",
    "  \n",
    "# close the file\n",
    "f.close()"
   ]
  },
  {
   "cell_type": "code",
   "execution_count": 18,
   "id": "4f926889",
   "metadata": {},
   "outputs": [
    {
     "name": "stdout",
     "output_type": "stream",
     "text": [
      "['a', 'all', 'father', 'freak', 'from', 'gets', 'girls', 'give', 'he', 'here', 'his', 'i', 'it', 'itâ€™s', 'lion', 'mountain', 'not', 'of', 'orders', 'prick', 'right', 'royal', 'southern', 'stab', 'take', 'think', 'those', 'to', 'with', 'you', 'your']\n"
     ]
    }
   ],
   "source": [
    "#THEON\n",
    "text_file = open('THEON.txt', 'r')\n",
    "text = text_file.read()\n",
    "\n",
    "text = text.lower()\n",
    "words = text.split()\n",
    "words = [word.strip('?.,!;()[]') for word in words]\n",
    "\n",
    "#finding unique\n",
    "theon = []\n",
    "for word in words:\n",
    "    if word not in theon:\n",
    "        theon.append(word)\n",
    " \n",
    "theon.sort()\n",
    "\n",
    "print(theon)\n",
    "\n",
    "with open('THEON.txt', 'w+') as f:\n",
    "      \n",
    "    # write elements of list\n",
    "    for items in theon:\n",
    "        f.write('%s\\n' %items)\n",
    "  \n",
    "# close the file\n",
    "f.close()"
   ]
  },
  {
   "cell_type": "code",
   "execution_count": 19,
   "id": "77be5b07",
   "metadata": {},
   "outputs": [
    {
     "name": "stdout",
     "output_type": "stream",
     "text": [
      "['close', 'did', 'get', 'how', 'you']\n"
     ]
    }
   ],
   "source": [
    "#WAYMAR ROYCE\n",
    "text_file = open('WAYMAR ROYCE.txt', 'r')\n",
    "text = text_file.read()\n",
    "\n",
    "text = text.lower()\n",
    "words = text.split()\n",
    "words = [word.strip('?.,!;()[]') for word in words]\n",
    "\n",
    "#finding unique\n",
    "waymar = []\n",
    "for word in words:\n",
    "    if word not in waymar:\n",
    "        waymar.append(word)\n",
    " \n",
    "waymar.sort()\n",
    "\n",
    "print(waymar)\n",
    "text_file.close()\n",
    "\n",
    "with open('WAYMAR ROYCE.txt', 'w+') as f:\n",
    "      \n",
    "    # write elements of list\n",
    "    for items in waymar:\n",
    "        f.write('%s\\n' %items)\n",
    "  \n",
    "# close the file\n",
    "f.close()"
   ]
  },
  {
   "cell_type": "code",
   "execution_count": 20,
   "id": "89fa44c8",
   "metadata": {},
   "outputs": [
    {
     "name": "stdout",
     "output_type": "stream",
     "text": [
      "['a', 'any', 'as', 'children', 'close', 'could', 'did', 'do', 'even', 'ever', 'here', 'in', 'it', 'iâ€™ve', 'killed', 'life', 'like', 'man', 'my', 'never', 'not', 'seen', 'the', 'them', 'they', 'thing', 'this', 'to', 'us', 'were', 'whatever', 'wildlings', 'would']\n"
     ]
    }
   ],
   "source": [
    "#WILL\n",
    "text_file = open('WILL.txt', 'r')\n",
    "text = text_file.read()\n",
    "\n",
    "text = text.lower()\n",
    "words = text.split()\n",
    "words = [word.strip('?.,!;()[]') for word in words]\n",
    "\n",
    "#finding unique\n",
    "will = []\n",
    "for word in words:\n",
    "    if word not in will:\n",
    "        will.append(word)\n",
    " \n",
    "will.sort()\n",
    "\n",
    "print(will)\n",
    "\n",
    "with open('WILL.txt', 'w+') as f:\n",
    "      \n",
    "    # write elements of list\n",
    "    for items in will:\n",
    "        f.write('%s\\n' %items)\n",
    "  \n",
    "# close the file\n",
    "f.close()"
   ]
  }
 ],
 "metadata": {
  "kernelspec": {
   "display_name": "Python 3 (ipykernel)",
   "language": "python",
   "name": "python3"
  },
  "language_info": {
   "codemirror_mode": {
    "name": "ipython",
    "version": 3
   },
   "file_extension": ".py",
   "mimetype": "text/x-python",
   "name": "python",
   "nbconvert_exporter": "python",
   "pygments_lexer": "ipython3",
   "version": "3.9.7"
  }
 },
 "nbformat": 4,
 "nbformat_minor": 5
}
